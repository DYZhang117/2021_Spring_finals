{
 "cells": [
  {
   "cell_type": "code",
   "execution_count": 2,
   "metadata": {},
   "outputs": [
    {
     "ename": "ModuleNotFoundError",
     "evalue": "No module named 'plotly'",
     "output_type": "error",
     "traceback": [
      "\u001B[1;31m---------------------------------------------------------------------------\u001B[0m",
      "\u001B[1;31mModuleNotFoundError\u001B[0m                       Traceback (most recent call last)",
      "\u001B[1;32m<ipython-input-2-e8d21ef72067>\u001B[0m in \u001B[0;36m<module>\u001B[1;34m\u001B[0m\n\u001B[0;32m      3\u001B[0m \u001B[1;32mimport\u001B[0m \u001B[0mnumpy\u001B[0m \u001B[1;32mas\u001B[0m \u001B[0mnp\u001B[0m\u001B[1;33m\u001B[0m\u001B[1;33m\u001B[0m\u001B[0m\n\u001B[0;32m      4\u001B[0m \u001B[1;32mimport\u001B[0m \u001B[0mcalendar\u001B[0m\u001B[1;33m\u001B[0m\u001B[1;33m\u001B[0m\u001B[0m\n\u001B[1;32m----> 5\u001B[1;33m \u001B[1;32mimport\u001B[0m \u001B[0mplotly\u001B[0m\u001B[1;33m.\u001B[0m\u001B[0mgraph_objects\u001B[0m \u001B[1;32mas\u001B[0m \u001B[0mgo\u001B[0m\u001B[1;33m\u001B[0m\u001B[1;33m\u001B[0m\u001B[0m\n\u001B[0m\u001B[0;32m      6\u001B[0m \u001B[1;33m\u001B[0m\u001B[0m\n",
      "\u001B[1;31mModuleNotFoundError\u001B[0m: No module named 'plotly'"
     ]
    }
   ],
   "source": [
    "import pandas as pd\n",
    "import matplotlib.pyplot as plt\n",
    "import numpy as np\n",
    "import calendar\n",
    "import plotly.graph_objects as go"
   ]
  },
  {
   "cell_type": "code",
   "execution_count": null,
   "metadata": {},
   "outputs": [],
   "source": [
    "def cleanData(dataSet: pd.DataFrame) -> pd.DataFrame:\n",
    "    \"\"\"\n",
    "    This function is used to clean the data and make it consistent for further processing.\n",
    "    :param dataSet: Dataframe to be cleaned\n",
    "    :return: Dataframe with appropriate transformations.\n",
    "    \"\"\"\n",
    "    dataSet_copy = dataSet.copy()\n",
    "    dataSet_copy['State'].replace({\"Jammu and Kashmir\": \"Jammu & Kashmir\", \"Delhi\": \"NCT OF Delhi\", \\\n",
    "                                   \"Dadra and Nagar Haveli and Daman and Diu\": \"Dadra & Nagar Haveli and Daman & Diu\", \\\n",
    "                                   \"Andaman and Nicobar Islands\": \"Andaman & Nicobar Islands\", \\\n",
    "                                   \"A.& N.Islands\": \"Andaman & Nicobar Islands\"}, inplace=True)\n",
    "\n",
    "    return dataSet_copy"
   ]
  },
  {
   "cell_type": "code",
   "execution_count": null,
   "metadata": {},
   "outputs": [],
   "source": [
    "def getStateGovernments(stateElect: pd.DataFrame) -> pd.DataFrame:\n",
    "    \"\"\"\n",
    "    This function aims to find the Ruling Party in each state and the votes it received.\n",
    "    :param stateElect: Dataframe with election data\n",
    "    :return: Dataframe with states and the corresponding political party in power.\n",
    "    \"\"\"\n",
    "    groupByStateParty = stateElect.groupby(['State', 'Party']).agg({'Votes': 'sum'})\n",
    "    groupByStateParty.columns = ['Votes']\n",
    "    groupByStateParty = groupByStateParty.reset_index()\n",
    "\n",
    "    stateRulingParty = groupByStateParty.sort_values(['Votes'], ascending=False)\n",
    "    stateRulingParty = stateRulingParty.drop_duplicates(subset=['State'], keep='first')\n",
    "\n",
    "    return stateRulingParty"
   ]
  },
  {
   "cell_type": "code",
   "execution_count": null,
   "metadata": {},
   "outputs": [],
   "source": [
    "def getStateVaccineRecords(stateVaccines: pd.DataFrame) -> pd.DataFrame:\n",
    "    \"\"\"\n",
    "    This function is used to find the vaccine data for each state based on the latest updated date.\n",
    "    :param stateVaccines: Dataframe with vaccine data statewise\n",
    "    :return: Dataframe with sates and corresponding number of individuals vaccinated as per latest updated date.\n",
    "    \"\"\"\n",
    "    stateVaccines = stateVaccines.loc[stateVaccines['State'] != 'India']\n",
    "    stateVaccine = stateVaccines.copy()\n",
    "    stateVaccine['Updated On'] = pd.to_datetime(stateVaccine['Updated On'], infer_datetime_format=True)\n",
    "    latestVaccineInfo = stateVaccine.sort_values(['Updated On'], ascending=False)\n",
    "    latestVaccineInfo = latestVaccineInfo.drop_duplicates(subset=['State'], keep='first')\n",
    "    latestVaccineInfo = latestVaccineInfo.reset_index()\n",
    "    return latestVaccineInfo"
   ]
  },
  {
   "cell_type": "code",
   "execution_count": null,
   "metadata": {},
   "outputs": [],
   "source": [
    "def calcVaccinationRate(Total_Individuals_Vaccinated: float, Population_2019: float) -> float:\n",
    "    \"\"\"\n",
    "    The purpose of this function is to calculate the VaccineRate in each state by finding the ratio of Total Individuals Vaccinated and Population.\n",
    "    :param Total_Individuals_Vaccinated: Number of individuals vaccinated\n",
    "    :param Population_2019: Population of the state\n",
    "    :return: VaccineRate(float)\n",
    "    \"\"\"\n",
    "    VaccinationRate = (Total_Individuals_Vaccinated / Population_2019) * 100\n",
    "    return VaccinationRate"
   ]
  },
  {
   "cell_type": "code",
   "execution_count": null,
   "metadata": {},
   "outputs": [],
   "source": [
    "def calcRateOfVaccination(vaccineRecords: pd.DataFrame, statePop: pd.DataFrame,\n",
    "                          stateGovernments: pd.DataFrame) :\n",
    "    \"\"\"\n",
    "    This function is used to calculate the VaccineRate and add it as a new column in the dataframe.\n",
    "    :param vaccineRecords: Vaccine data\n",
    "    :param statePop: Population data\n",
    "    :param stateGovernments: Election data\n",
    "    :return: Tuple with two dataframes consisting of vaccination rates.\n",
    "    \"\"\"\n",
    "    vaccinePopulation = statePop[['State', 'Population_2019']].merge(\n",
    "                        vaccineRecords[['Updated On', 'State', 'Total Individuals Vaccinated']], on='State')\n",
    "    vaccinePopulation['VaccinationRate'] = vaccinePopulation.apply(\n",
    "        lambda row: calcVaccinationRate(row['Total Individuals Vaccinated'], row['Population_2019']), axis=1)\n",
    "\n",
    "    vaccinePopulation1 = statePop[['State', 'Population_2019']].merge(\n",
    "                         vaccineRecords[['Updated On', 'State', 'Total Individuals Vaccinated']], on='State').merge(\n",
    "                         stateGovernments[['State', 'Party']], on='State')\n",
    "\n",
    "    grouped = vaccinePopulation1.groupby('Party').agg({'Population_2019': 'sum', 'Total Individuals Vaccinated': 'sum'})\n",
    "    grouped = grouped.reset_index()\n",
    "    grouped['VaccinationRate'] = grouped.apply(\n",
    "        lambda row: calcVaccinationRate(row['Total Individuals Vaccinated'], row['Population_2019']), axis=1)\n",
    "\n",
    "    return (grouped, vaccinePopulation)"
   ]
  },
  {
   "cell_type": "code",
   "execution_count": null,
   "metadata": {},
   "outputs": [],
   "source": [
    "def stateClassificationByRulingParty(stateGovernments: pd.DataFrame, rateOfVaccination: pd.DataFrame) -> pd.DataFrame:\n",
    "    \"\"\"\n",
    "    This function aims at merging the election dataframe and VaccineRate dataframe for further processing.\n",
    "    :param stateGovernments: Election data\n",
    "    :param rateOfVaccination: VaccineRate data\n",
    "    :return: Dataframe with states classified based on the currently ruling party.\n",
    "    \"\"\"\n",
    "    vaccinationRate_by_rulingParty = stateGovernments[['State', 'Party']].merge(\n",
    "        rateOfVaccination[['State', 'Population_2019', 'Total Individuals Vaccinated', 'VaccinationRate']], on='State')\n",
    "    return vaccinationRate_by_rulingParty"
   ]
  },
  {
   "cell_type": "code",
   "execution_count": null,
   "metadata": {},
   "outputs": [],
   "source": [
    "def hypothesis1(electionData, vaccineData, populationData):\n",
    "    \"\"\"\n",
    "    This function consists of all the steps required for Hypothesis 1. \n",
    "    All the function calls for Hypothesis 1 are made from this function.\n",
    "    :param electionData: Dataframe with results for 2019 elections in India.\n",
    "    :param vaccineData: Dataframe with vaccination records for each state in India.\n",
    "    :param populationData: Dataframe with population in each state as of 2019.   \n",
    "    \"\"\"\n",
    "\n",
    "    print(\"#########################################################################################################\")\n",
    "    print(\"                                            HYPOTHESIS 1                                                 \")\n",
    "    print(\"#########################################################################################################\")\n",
    "\n",
    "    # Fetching the currently ruling parties in each state of India.\n",
    "    stateGovernments = getStateGovernments(electionData)\n",
    "\n",
    "    # Fetching the statewise vaccination records for the latest dates.\n",
    "    stateVaccineRecords = getStateVaccineRecords(vaccineData)\n",
    "\n",
    "    # Calculating the rate of vaccination in each state.\n",
    "    rateOfVaccination_vs_party = calcRateOfVaccination(stateVaccineRecords, populationData, stateGovernments)\n",
    "\n",
    "    # Plotting bar plot for States within each party vs vaccination rate.\n",
    "    drp_dwn = widgets.Dropdown(value = 'Total Individuals Vaccinated',\n",
    "                           options = [('# vaccinated', 'Total Individuals Vaccinated'),\n",
    "                                      ('% vaccinated', 'VaccinationRate')])\n",
    "    @interact(y = drp_dwn)\n",
    "    def plot(y):\n",
    "\n",
    "        fig = px.bar(rateOfVaccination_vs_party[0], x = 'Party', y = y, log_y = True, title = 'Vaccination per Political Party',\n",
    "                    hover_name = 'Party',\n",
    "                    hover_data = {'a': [numerize.numerize(x, 0) for x in\n",
    "                                        rateOfVaccination_vs_party[0].Population_2019.tolist()],\n",
    "                                 'tiv': [numerize.numerize(x, 0) for x in\n",
    "                                        rateOfVaccination_vs_party[0]['Total Individuals Vaccinated'].tolist()],\n",
    "                                 'vr': [round(x, 2) for x in\n",
    "                                        rateOfVaccination_vs_party[0]['VaccinationRate'].tolist()],\n",
    "                                 y: False,\n",
    "                                 'VaccinationRate': False,\n",
    "                                 'Party': False,\n",
    "                                 'Population_2019': False},\n",
    "                    labels = {'a': 'population',\n",
    "                              'tiv': '# vaccinated',\n",
    "                            'vr': '% vaccinated'},\n",
    "                    color = 'Population_2019',\n",
    "                    color_continuous_scale = 'darkmint')\n",
    "        fig.update_layout(plot_bgcolor = 'white')\n",
    "        fig.show()\n",
    "\n",
    "    # Classifying the states by ruling parties.\n",
    "    vaccinationRate_by_rulingParty = stateClassificationByRulingParty(stateGovernments, rateOfVaccination_vs_party[1])\n",
    "\n",
    "    # plotting bar bar graph for States vs Vaccination rate and coloring the bar plot to represent the ruling party.\n",
    "    fig, ax = plt.subplots(figsize=(100, 30))\n",
    "    for key, grp in vaccinationRate_by_rulingParty.groupby(['Party']):\n",
    "        ax.bar(grp['State'], grp['VaccinationRate'], label=key)\n",
    "\n",
    "    for label in (ax.get_xticklabels() + ax.get_yticklabels()):\n",
    "        label.set_fontsize(55)\n",
    "    ax.legend(loc=2, prop={'size': 40})\n",
    "    ax.tick_params(axis='x', labelrotation=90)\n",
    "    plt.title(label=\"States Vs Vaccination Rates\",\n",
    "              fontsize=95)\n",
    "    plt.xlabel('States', fontsize=55)\n",
    "    plt.ylabel('Vaccination Rates', fontsize=55)\n",
    "    plt.show()\n",
    "    \n",
    "    return stateGovernments"
   ]
  },
  {
   "cell_type": "code",
   "execution_count": null,
   "metadata": {},
   "outputs": [],
   "source": [
    "def getTestGrouped(testData: pd.DataFrame)-> pd.DataFrame:\n",
    "    \"\"\"\n",
    "    Combines number of tests conducted and positive cases for each day recorded in dataset for every state.\n",
    "    :param testData: Data frame consisting of the COVID-19 testing data for each state.\n",
    "    :return: Creates a dataframe having total number of tests conducted and positive cases for each day recorded in \n",
    "    India.\n",
    "    \"\"\"\n",
    "    testingTotal = testData.groupby(['Updated On']).agg({'Total Tested': 'sum'})\n",
    "    testingTotal = testingTotal.reset_index()\n",
    "    \n",
    "    testingPositive = testData.groupby(['Updated On']).agg({'Positive': 'sum'})\n",
    "    testingPositive = testingPositive.reset_index()\n",
    "    \n",
    "    testGrouped = testingTotal.merge(testingPositive, on='Updated On')\n",
    "    \n",
    "    return testGrouped"
   ]
  },
  {
   "cell_type": "code",
   "execution_count": null,
   "metadata": {},
   "outputs": [],
   "source": [
    "def getTotalDailyVaccinated(vaccination: pd.DataFrame)-> pd.DataFrame:\n",
    "    \"\"\"\n",
    "    Combines number of individuals vaccinated for each day across all the states.\n",
    "    :param vaccination: Dataframe consisting of vaccination records for each state.\n",
    "    :return: Dataframe having total number of individuals vaccinated for each day recorded.\n",
    "    \"\"\"\n",
    "    vaccination_ = vaccination.copy()\n",
    "    vaccination_['Updated On'] = pd.to_datetime(vaccination_['Updated On'], infer_datetime_format=True)\n",
    "    vaccineCombined = vaccination_.groupby(['Updated On']).agg({'Total Individuals Vaccinated': 'sum'})\n",
    "    vaccineCombined = vaccineCombined.reset_index()\n",
    "    \n",
    "    return vaccineCombined"
   ]
  },
  {
   "cell_type": "code",
   "execution_count": null,
   "metadata": {},
   "outputs": [],
   "source": [
    "def plotHypo2(testingVsVaccinated: pd.DataFrame, title: str):\n",
    "    '''\n",
    "    This functions creates all the three plots required for the hypothesis 2.\n",
    "    :param testingVsVaccinated: Dataframe consisting of testing and vaccination details for each date across different states.\n",
    "    :param title: String which is used as title of the plots.\n",
    "    '''\n",
    "    fig = go.Figure()\n",
    "\n",
    "    if \"before\" in title:\n",
    "        fig.add_trace(go.Scatter(x=testingVsVaccinated['Updated On'], y=testingVsVaccinated['Total Tested'],\n",
    "                    mode='lines',\n",
    "                    name='Total Tests Conducted'))\n",
    "\n",
    "        fig.add_trace(go.Scatter(x=testingVsVaccinated['Updated On'], y=testingVsVaccinated['Positive'],\n",
    "                    mode='lines',\n",
    "                    name='Total Positive Cases'))\n",
    "\n",
    "    else:\n",
    "        fig.add_trace(go.Scatter(x=testingVsVaccinated['Updated On'], y=testingVsVaccinated['Total Tested'],\n",
    "                        mode='lines',\n",
    "                        name='Total Tests Conducted'))\n",
    "\n",
    "        fig.add_trace(go.Scatter(x=testingVsVaccinated['Updated On'], y=testingVsVaccinated['Total Individuals Vaccinated'],\n",
    "                        mode='lines',\n",
    "                        name='Total Individuals Vaccinated'))\n",
    "\n",
    "        fig.add_trace(go.Scatter(x=testingVsVaccinated['Updated On'], y=testingVsVaccinated['Positive'],\n",
    "                        mode='lines',\n",
    "                        name='Total Positive Cases'))\n",
    "\n",
    "    fig.update_layout(\n",
    "        title={\n",
    "            'text': title,\n",
    "            'y':0.9,\n",
    "            'x':0.4,\n",
    "            'xanchor': 'center',\n",
    "            'yanchor': 'top'},\n",
    "        xaxis_title=\"Time\",\n",
    "        yaxis_title=\"Rates\",\n",
    "    )\n",
    "\n",
    "    fig.show()"
   ]
  },
  {
   "cell_type": "code",
   "execution_count": null,
   "outputs": [],
   "source": [
    "def hypothesis2(testingData: pd.DataFrame, vaccinesData: pd.DataFrame, stateGov: pd.DataFrame):\n",
    "    \"\"\"\n",
    "    This function consists of all the steps required for Hypothesis 1.\n",
    "    All the function calls for Hypothesis 1 are made from this function.\n",
    "    :param testingData: Data frame consisting of the COVID-19 testing data for each state.\n",
    "    :param vaccinesData: Dataframe consisting of vaccination records for each state.\n",
    "    \"\"\"\n",
    "\n",
    "    print(\"#########################################################################################################\")\n",
    "    print(\"                                            HYPOTHESIS 2                                                 \")\n",
    "    print(\"#########################################################################################################\")\n",
    "\n",
    "    testingData['Updated On'] = pd.to_datetime(testingData['Updated On'], infer_datetime_format=True)\n",
    "\n",
    "    #Lets first check the trend in COVID-19 testing before vaccinations began.\n",
    "    testData = testingData.drop(testingData[testingData['Updated On'].dt.year == 2021].index)\n",
    "    testbeforevaccine = getTestGrouped(testData)\n",
    "    plotHypo2(testbeforevaccine, \"Testing conducted before vaccinations\")\n",
    "\n",
    "    testingData.drop(testingData[testingData['Updated On'].dt.year != 2021].index, inplace = True)\n",
    "    #Fetching total number of tests conducted each day across different states.\n",
    "    testingGrouped = getTestGrouped(testingData)\n",
    "    #Fetching total number individuals vaccinated each day across different states.\n",
    "    vaccineGrouped = getTotalDailyVaccinated(vaccinesData)\n",
    "\n",
    "    #Merging the testing and vaccination details for creating a plot for overall tests conducted after vaccination began.\n",
    "    testingVsVaccinated = vaccineGrouped.merge(testingGrouped, on='Updated On')\n",
    "\n",
    "    #Fetching the records for 1st shot of vaccinations only.\n",
    "    vaccine_1st_shot = vaccinesData.loc[vaccinesData['Second Dose Administered'] == 0]\n",
    "    #Fetching the records for 2nd shot of vaccinations only.\n",
    "    vaccine_2nd_shot = vaccinesData.loc[vaccinesData['Second Dose Administered'] != 0]\n",
    "\n",
    "    #Fetching total number individuals who got first shot each day across different states.\n",
    "    vaccine_1st_grouped = getTotalDailyVaccinated(vaccine_1st_shot)\n",
    "    #Fetching total number individuals who got second shot each day across different states.\n",
    "    vaccine_2nd_grouped = getTotalDailyVaccinated(vaccine_2nd_shot)\n",
    "\n",
    "    first_shot_date = vaccine_1st_grouped['Updated On'].max()\n",
    "    second_shot_date = vaccine_2nd_grouped['Updated On'].min()\n",
    "\n",
    "    #Fetching the records for tests conducted after 1st shot and before the second shots started.\n",
    "    test_after_1st_shot = testingGrouped.loc[testingGrouped['Updated On'] <= first_shot_date]\n",
    "    #Fetching the records for tests conducted after 2nd shots were started.\n",
    "    test_after_2nd_shot = testingGrouped.loc[testingGrouped['Updated On'] >= second_shot_date]\n",
    "\n",
    "    #Merging the testing and vaccination details for creating a plot for test conducted after first shot of vaccination.\n",
    "    testingVsVaccinated_1st = vaccine_1st_grouped.merge(test_after_1st_shot, on = 'Updated On')\n",
    "    #Merging the testing and vaccination details for creating a plot for test conducted after second shot of vaccination.\n",
    "    testingVsVaccinated_2nd = vaccine_2nd_grouped.merge(test_after_2nd_shot, on = 'Updated On')\n",
    "\n",
    "    #Creating all three plots.\n",
    "    plotHypo2(testingVsVaccinated, \"No. of individuals vaccinated Vs Tests Conducted\")\n",
    "    plotHypo2(testingVsVaccinated_1st, \"No. of individuals given first shot Vs Tests Conducted after first shot\")\n",
    "    plotHypo2(testingVsVaccinated_2nd, \"No. of individuals given second shot Vs Tests Conducted after second shot\")"
   ],
   "metadata": {
    "collapsed": false,
    "pycharm": {
     "name": "#%%\n"
    }
   }
  },
  {
   "cell_type": "code",
   "execution_count": null,
   "outputs": [],
   "source": [
    "def getVaccineTypeCount (vaccinesTypeData : pd.DataFrame):\n",
    "    vaccinesTypeData = vaccinesTypeData.loc[vaccinesTypeData['State'] != 'India']\n",
    "    vaccineTypeData = vaccinesTypeData.copy()\n",
    "    groupedVaccineTypeData = vaccineTypeData.groupby('State').agg({'Total Covaxin Administered': 'sum', 'Total CoviShield Administered': 'sum'})\n",
    "    groupedVaccineTypeData = groupedVaccineTypeData.reset_index()\n",
    "    return groupedVaccineTypeData"
   ],
   "metadata": {
    "collapsed": false,
    "pycharm": {
     "name": "#%%\n"
    }
   }
  },
  {
   "cell_type": "code",
   "execution_count": null,
   "outputs": [],
   "source": [
    "def rank_(grp, col, return_rank = None):\n",
    "    if return_rank == None:\n",
    "        return_rank = grp.shape[0]\n",
    "    return grp.sort_values(col, ascending  = False).head(return_rank)[['State']]"
   ],
   "metadata": {
    "collapsed": false,
    "pycharm": {
     "name": "#%%\n"
    }
   }
  },
  {
   "cell_type": "code",
   "execution_count": null,
   "outputs": [],
   "source": [
    "def hypothesis3(testingData3: pd.DataFrame):\n",
    "\n",
    "    print(\"#########################################################################################################\")\n",
    "    print(\"                                            HYPOTHESIS 3                                                \")\n",
    "    print(\"#########################################################################################################\")\n",
    "\n",
    "\n",
    "\n",
    "    plot = go.Figure(data=[go.Bar(name = 'Covaxin', x = testingData3['State'] , y = testingData3['Total Covaxin Administered']),\n",
    "                       go.Bar(name = 'CoviShield', x = testingData3['State'], y = testingData3['Total CoviShield Administered'])])\n",
    "    plot.update_layout(\n",
    "        title={\n",
    "            'text': 'Number of Covaxin And CoviShield Administered per State',\n",
    "            'y':0.9,\n",
    "            'x':0.4,\n",
    "            'xanchor': 'center',\n",
    "            'yanchor': 'top'},\n",
    "        xaxis_title=\"State\",\n",
    "        yaxis_title=\"Count of vaccine administered\",\n",
    "        #xaxis = dict(\n",
    "        #tickfont=dict(color=\"#ff7f0e\"),\n",
    "        #tickmode = 'array',\n",
    "        #tickvals = [19, 31],\n",
    "        #ticktext = ['Maharashtra', 'Telangana']\n",
    "    #)\n",
    "\n",
    "    )\n",
    "    plot.show()\n",
    "\n",
    "    statewise_vaccination = pd.read_csv('http://api.covid19india.org/csv/latest/cowin_vaccine_data_statewise.csv',\n",
    "                                    parse_dates = ['Updated On'])\n",
    "\n",
    "    idx = statewise_vaccination.State == 'India'\n",
    "\n",
    "    india = statewise_vaccination.loc[idx, :]\n",
    "    statewise_vaccination = statewise_vaccination.loc[~idx, :]\n",
    "\n",
    "\n",
    "    covis_top_3 = statewise_vaccination.groupby(['Updated On']).apply(rank_, 'Total CoviShield Administered', 3)\\\n",
    "                            .reset_index().drop('level_1', axis = 1)\n",
    "    covis_top = covis_top_3.drop_duplicates('Updated On', keep = 'first')\n",
    "\n",
    "    covx_top_3 = statewise_vaccination.groupby(['Updated On']).apply(rank_, 'Total Covaxin Administered', 3)\\\n",
    "                            .reset_index().drop('level_1', axis = 1)\n",
    "    covx_top = covx_top_3.drop_duplicates('Updated On', keep = 'first')\n",
    "\n",
    "    title_list = ['Top 3 states for covishield distribution', 'Top state for covishield distribution', 'Top 3 states for covaxin distribution', 'Top state for covaxin distribution']\n",
    "    i = 0\n",
    "\n",
    "    for df in [covis_top_3, covis_top, covx_top_3, covx_top]:\n",
    "        df = df.State.value_counts().reset_index().rename(columns = {'index': 'State', 'State': 'Highest reciever in'})\n",
    "        fig = go.Figure(go.Pie(labels = df.State, values=df['Highest reciever in']))\n",
    "        fig.update_traces(textposition='inside', textinfo='percent+label')\n",
    "        fig.update_layout(\n",
    "            title={\n",
    "                'text': title_list[i],\n",
    "                'y':0.9,\n",
    "                'x':0.4,\n",
    "                'xanchor': 'center',\n",
    "                'yanchor': 'top'}\n",
    "        )\n",
    "        i = i + 1\n",
    "        fig.show()"
   ],
   "metadata": {
    "collapsed": false,
    "pycharm": {
     "name": "#%%\n"
    }
   }
  },
  {
   "cell_type": "code",
   "execution_count": null,
   "metadata": {},
   "outputs": [],
   "source": [
    "if __name__ == '__main__':\n",
    "    #Loading all the input files for Hypothesis 1\n",
    "    stateElections = pd.read_csv(\"./StateElectionData.csv\")\n",
    "    stateVaccinations = pd.read_csv(\"./covid_vaccine_statewise.csv\")\n",
    "    statePopulation = pd.read_csv(\"./statePopulationIndia.csv\")\n",
    "    stateVaccinations = cleanData(stateVaccinations)\n",
    "    stateVaccineRecords = getStateVaccineRecords(stateVaccinations)"
   ]
  },
  {
   "cell_type": "code",
   "execution_count": null,
   "outputs": [],
   "source": [
    "    #Cleaning all the file for Hypothesis 1\n",
    "    stateElections = cleanData(stateElections)\n",
    "\n",
    "    statePopulation = cleanData(statePopulation)\n",
    "\n",
    "    #Performing analysis for Hypothesis 1\n",
    "    stateGovt = hypothesis1(stateElections, stateVaccinations, statePopulation)"
   ],
   "metadata": {
    "collapsed": false,
    "pycharm": {
     "name": "#%%\n"
    }
   }
  },
  {
   "cell_type": "code",
   "execution_count": null,
   "outputs": [],
   "source": [
    "    #Loading all the input files for Hypothesis 2\n",
    "    stateTesting = pd.read_csv(\"./statewise_tested_numbers_data.csv\")\n",
    "\n",
    "    #CLeaning all the files for Hypothesis 2\n",
    "    stateTesting = cleanData(stateTesting)\n",
    "\n",
    "    #Performing analysis for Hypothesis 2\n",
    "    hypothesis2(stateTesting, stateVaccinations, stateGovt)"
   ],
   "metadata": {
    "collapsed": false,
    "pycharm": {
     "name": "#%%\n"
    }
   }
  },
  {
   "cell_type": "code",
   "execution_count": null,
   "outputs": [],
   "source": [
    "    #Grouping all the data for Hypothesis 3\n",
    "    groupedVaccineTypeData = getVaccineTypeCount(stateVaccinations)\n",
    "\n",
    "    #Performing analysis for Hypothesis 3\n",
    "    hypothesis3(groupedVaccineTypeData)"
   ],
   "metadata": {
    "collapsed": false,
    "pycharm": {
     "name": "#%%\n"
    }
   }
  },
  {
   "cell_type": "code",
   "execution_count": null,
   "metadata": {},
   "outputs": [],
   "source": []
  }
 ],
 "metadata": {
  "kernelspec": {
   "display_name": "Python 3",
   "language": "python",
   "name": "python3"
  },
  "language_info": {
   "codemirror_mode": {
    "name": "ipython",
    "version": 3
   },
   "file_extension": ".py",
   "mimetype": "text/x-python",
   "name": "python",
   "nbconvert_exporter": "python",
   "pygments_lexer": "ipython3",
   "version": "3.8.5"
  }
 },
 "nbformat": 4,
 "nbformat_minor": 4
}